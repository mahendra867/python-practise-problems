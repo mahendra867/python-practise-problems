{
 "cells": [
  {
   "cell_type": "markdown",
   "metadata": {},
   "source": [
    "### Find the smallest element in an array"
   ]
  },
  {
   "cell_type": "code",
   "execution_count": 165,
   "metadata": {},
   "outputs": [
    {
     "name": "stdout",
     "output_type": "stream",
     "text": [
      "The min value is 0\n",
      "1\n"
     ]
    }
   ],
   "source": [
    "# Brute force method \n",
    "\n",
    "import array as arr\n",
    "def min_value_of_array(arr):\n",
    "\n",
    "    min_value=arr[0]\n",
    "    for element in arr:\n",
    "        if element<=min_value:\n",
    "            min_value=element\n",
    "        \n",
    "    return min_value\n",
    "\n",
    "array1=arr.array('i',[23,34,45,67,12,76,35,87,65,8,9,23,45,1,0])\n",
    "\n",
    "min_value=min_value_of_array(array1)\n",
    "print(f\"The min value is {min_value}\")\n",
    "\n",
    "# Built in method\n",
    "array=[1,2,3,4,5,6,7,8,9,10]\n",
    "print(min(array))"
   ]
  },
  {
   "cell_type": "markdown",
   "metadata": {},
   "source": [
    "### Find the largest number in an array"
   ]
  },
  {
   "cell_type": "code",
   "execution_count": 167,
   "metadata": {},
   "outputs": [
    {
     "name": "stdout",
     "output_type": "stream",
     "text": [
      "The max value is 87\n",
      "879\n"
     ]
    }
   ],
   "source": [
    "import array as arr\n",
    "def max_value(arr):\n",
    "\n",
    "    max_value=arr[0]\n",
    "\n",
    "    for element in arr:\n",
    "        if element>max_value:\n",
    "            max_value=element\n",
    "    return max_value\n",
    "\n",
    "array1=arr.array('i',[23,34,45,67,12,76,35,87,65,8,9,23,45,1,0])\n",
    "max_value=max_value(array1)\n",
    "print(f\"The max value is {max_value}\")\n",
    "\n",
    "\n",
    "array=[121,134,98,321,879,456]\n",
    "print(max(array))"
   ]
  },
  {
   "cell_type": "markdown",
   "metadata": {},
   "source": [
    "### Second Smallest and Second Largest element in an array"
   ]
  },
  {
   "cell_type": "code",
   "execution_count": 173,
   "metadata": {},
   "outputs": [
    {
     "name": "stdout",
     "output_type": "stream",
     "text": [
      "The min value is 0\n",
      "The max value is 87\n",
      "The second smallest value is 1\n",
      "The second largest value is 76\n",
      "[32, 34, 45, 56, 67, 78, 121]\n",
      "32 78\n"
     ]
    }
   ],
   "source": [
    "import array as arr\n",
    "\n",
    "def second_smallest_largest(arr):\n",
    "    min_value = arr[0]\n",
    "    max_value = arr[0]\n",
    "    \n",
    "    # Find the minimum and maximum values\n",
    "    for element in arr:\n",
    "        if element < min_value:\n",
    "            min_value = element\n",
    "        if element > max_value:\n",
    "            max_value = element\n",
    "    \n",
    "    second_smallest = None\n",
    "    second_largest = None\n",
    "\n",
    "    # Find the second smallest value\n",
    "    for element in arr:\n",
    "        if element != min_value:\n",
    "            if second_smallest is None or element < second_smallest:\n",
    "                second_smallest = element\n",
    "\n",
    "    # Find the second largest value\n",
    "    for element in arr:\n",
    "        if element != max_value:\n",
    "            if second_largest is None or element > second_largest:\n",
    "                second_largest = element\n",
    "    \n",
    "    return min_value, max_value, second_smallest, second_largest\n",
    "\n",
    "# Example usage\n",
    "array1 = arr.array('i', [23, 34, 45, 67, 12, 76, 35, 87, 65, 8, 9, 23, 45, 1, 0])\n",
    "min_value, max_value, second_smallest, second_largest = second_smallest_largest(array1)\n",
    "print(f\"The min value is {min_value}\")\n",
    "print(f\"The max value is {max_value}\")\n",
    "print(f\"The second smallest value is {second_smallest}\")\n",
    "print(f\"The second largest value is {second_largest}\")\n",
    "\n",
    "\n",
    "array=[121,34,56,67,32,78,45]\n",
    "x=sorted(array)\n",
    "print(x)\n",
    "print(x[0],x[-2])"
   ]
  },
  {
   "cell_type": "markdown",
   "metadata": {},
   "source": [
    "### Reverse a given array"
   ]
  },
  {
   "cell_type": "code",
   "execution_count": 9,
   "metadata": {},
   "outputs": [
    {
     "name": "stdout",
     "output_type": "stream",
     "text": [
      "[321, 178, 546, 234, 154]\n"
     ]
    }
   ],
   "source": [
    "array=[154,234,546,178,321]\n",
    "x=list(reversed(array))\n",
    "print(x)"
   ]
  },
  {
   "cell_type": "markdown",
   "metadata": {},
   "source": [
    "### Count frequency of each element in an array"
   ]
  },
  {
   "cell_type": "code",
   "execution_count": 12,
   "metadata": {},
   "outputs": [
    {
     "name": "stdout",
     "output_type": "stream",
     "text": [
      "Counter({6: 3, 1: 2, 2: 2, 3: 2, 4: 2, 7: 2, 8: 2, 9: 2, 5: 1})\n"
     ]
    }
   ],
   "source": [
    "from collections import Counter\n",
    "array=[1,2,3,4,5,6,7,8,9,6,2,3,1,4,6,7,8,9]\n",
    "x=Counter(array)\n",
    "print(x)"
   ]
  },
  {
   "cell_type": "code",
   "execution_count": null,
   "metadata": {},
   "outputs": [],
   "source": [
    "array = [3, 1, 4, 1, 5, 9, 2, 6, 5, 3, 5]\n",
    "\n",
    "sorted_array=sorted(array)\n"
   ]
  },
  {
   "cell_type": "markdown",
   "metadata": {},
   "source": [
    "### Rearrange array in increasing-decreasing order\n",
    "\n",
    "Explanation:\n",
    "- Sort the Array: The sort() method is called on arr1 to sort it in place. Since sort() does not return a new list, there is no need to assign its result to sorted_array.\n",
    "- Split the Array: The array is split into first_half and second_half using the midpoint.\n",
    "- Reverse the Second Half: The second half is reversed using slicing ([::-1]).\n",
    "- Combine: The two halves are combined to form the final array.\n",
    "- Print: The final array is printed."
   ]
  },
  {
   "cell_type": "code",
   "execution_count": 7,
   "metadata": {},
   "outputs": [
    {
     "name": "stdout",
     "output_type": "stream",
     "text": [
      "[12, 23, 28, 87, 65, 48, 43]\n"
     ]
    }
   ],
   "source": [
    "def rearranging_array(arr1):\n",
    "    sorted_array=sorted(arr1)\n",
    "    mid_point=len(sorted_array)//2\n",
    "    first_half=sorted_array[:mid_point]\n",
    "    second_half=sorted_array[mid_point:]\n",
    "    updated_second_order=second_half[::-1]\n",
    "    increase_and_decrease_array=first_half+updated_second_order\n",
    "    print(increase_and_decrease_array)\n",
    "\n",
    "list1=[23,43,12,65,48,87,28]\n",
    "rearranging_array(list1)"
   ]
  },
  {
   "cell_type": "markdown",
   "metadata": {},
   "source": [
    "### Calculate sum of the elements of the array"
   ]
  },
  {
   "cell_type": "code",
   "execution_count": 10,
   "metadata": {},
   "outputs": [
    {
     "name": "stdout",
     "output_type": "stream",
     "text": [
      "The sum of the elements of array is 278\n"
     ]
    }
   ],
   "source": [
    "\n",
    "\n",
    "def sum_of_array(arr1):\n",
    "    total=0\n",
    "\n",
    "    for element in arr1:\n",
    "        total=total+element\n",
    "        #print(sum_of_element)\n",
    "    return total\n",
    "\n",
    "list1=[1,34,23,45,76,24,75]\n",
    "x=sum_of_array(list1)\n",
    "print(f\"The sum of the elements of array is {x}\")\n"
   ]
  },
  {
   "cell_type": "markdown",
   "metadata": {},
   "source": [
    "### Average of all elements in an array"
   ]
  },
  {
   "cell_type": "code",
   "execution_count": 34,
   "metadata": {},
   "outputs": [
    {
     "name": "stdout",
     "output_type": "stream",
     "text": [
      "the avg of all elements of the array is 5.5\n"
     ]
    }
   ],
   "source": [
    "def avg_of_all_elements_in_array(arr1):\n",
    "    sum_of_the_array=sum(arr1)\n",
    "    len_of_the_array=len(arr1)\n",
    "    average=sum_of_the_array/len_of_the_array\n",
    "    return average\n",
    "list1=[1,2,3,4,5,6,7,8,9,10]\n",
    "x=avg_of_all_elements_in_array(list1)\n",
    "print(f\"the avg of all elements of the array is {x}\")"
   ]
  },
  {
   "cell_type": "markdown",
   "metadata": {},
   "source": [
    "### Find the median of the given array\n",
    "\n",
    "Explanation:\n",
    "- arr.sort(): This method sorts the array arr in place.\n",
    "Calculate the Median:\n",
    "- Odd Number of Elements: If the number of elements in the array (n) is odd (n % 2 == 1), the median is the middle element (arr[n // 2]).\n",
    "- Even Number of Elements: If n is even, the median is the average of the two middle elements ((arr[mid - 1] + arr[mid]) / 2), where mid = n // 2."
   ]
  },
  {
   "cell_type": "code",
   "execution_count": 35,
   "metadata": {},
   "outputs": [
    {
     "name": "stdout",
     "output_type": "stream",
     "text": [
      "[9, 13, 18, 23, 46, 53, 64, 78, 100]\n",
      "the median of array is 46\n"
     ]
    }
   ],
   "source": [
    "def median_of_array(arr1):\n",
    "    sorted_array=sorted(arr1)\n",
    "    length_of_the_array=len(arr1)\n",
    "    print(sorted_array)\n",
    "\n",
    "    if length_of_the_array%2==0:\n",
    "        mid=length_of_the_array//2\n",
    "        return (sorted_array[mid-1]+sorted_array[mid])//2\n",
    "    else:\n",
    "        return sorted_array[length_of_the_array//2]\n",
    "\n",
    "list1=[23,13,64,53,46,78,18,9,100]\n",
    "x=median_of_array(list1)\n",
    "print(f\"the median of array is {x}\")"
   ]
  },
  {
   "cell_type": "markdown",
   "metadata": {},
   "source": [
    "### Remove duplicates from a sorted array"
   ]
  },
  {
   "cell_type": "code",
   "execution_count": 36,
   "metadata": {},
   "outputs": [
    {
     "name": "stdout",
     "output_type": "stream",
     "text": [
      "[1, 2, 3, 4, 5, 6, 7, 8, 9, 20]\n"
     ]
    }
   ],
   "source": [
    "def finding_unique_elements(arr1):\n",
    "    arr1=sorted(arr1)\n",
    "    unique_elements = []\n",
    "    for index_value in range(len(arr1)):\n",
    "        if index_value == 0 or arr1[index_value] != arr1[index_value - 1]:\n",
    "            unique_elements.append(arr1[index_value])\n",
    "        \n",
    "    return unique_elements\n",
    "\n",
    "lst = [1, 1, 1, 2, 2, 3, 3, 4, 4, 5, 5, 6, 7, 8, 4, 9, 20, 3, 2, 2, 5, 6]\n",
    "unique_lst = finding_unique_elements(lst)\n",
    "print(unique_lst)\n"
   ]
  },
  {
   "cell_type": "markdown",
   "metadata": {},
   "source": [
    "### Remove duplicates from unsorted array"
   ]
  },
  {
   "cell_type": "code",
   "execution_count": 37,
   "metadata": {},
   "outputs": [
    {
     "name": "stdout",
     "output_type": "stream",
     "text": [
      "{1, 2, 34, 4, 5, 3, 6, 8, 7, 9}\n"
     ]
    }
   ],
   "source": [
    "def finding_unique_elements_without_sorting(arr1):\n",
    "    seen=set()\n",
    "    unique_elements=[]\n",
    "\n",
    "    for element in arr1:\n",
    "        if element not in seen:\n",
    "            seen.add(element)\n",
    "            unique_elements.append(element)\n",
    "\n",
    "    return seen\n",
    "\n",
    "lst=[1,2,34,1,2,4,5,3,2,5,6,8,4,7,3,9,2,7,4]\n",
    "x=finding_unique_elements_without_sorting(lst)\n",
    "print(x)"
   ]
  },
  {
   "cell_type": "markdown",
   "metadata": {},
   "source": [
    "### Adding Element in an array"
   ]
  },
  {
   "cell_type": "code",
   "execution_count": 38,
   "metadata": {},
   "outputs": [
    {
     "name": "stdout",
     "output_type": "stream",
     "text": [
      "This is the current list [1, 2, 3, 4, 5, 6, 7]\n",
      "This is the updated array[1, 2, 3, 4, 5, 6, 7, 2]\n"
     ]
    }
   ],
   "source": [
    "def adding_element_in_array(arr1):\n",
    "    print(f\"This is the current list {arr1}\")\n",
    "    element=int(input(\"enter the element\"))\n",
    "    arr1.append(element)\n",
    "    print(f\"This is the updated array{arr1}\")\n",
    "\n",
    "lst=[1,2,3,4,5,6,7]\n",
    "adding_element_in_array(lst)\n"
   ]
  },
  {
   "cell_type": "markdown",
   "metadata": {},
   "source": [
    "### Find all repeating elements in an array"
   ]
  },
  {
   "cell_type": "code",
   "execution_count": 29,
   "metadata": {},
   "outputs": [
    {
     "name": "stdout",
     "output_type": "stream",
     "text": [
      "dict_items([(1, 2), (2, 4), (4, 3), (5, 3), (3, 1), (45, 1)])\n",
      "[1, 2, 4, 5]\n"
     ]
    }
   ],
   "source": [
    "from collections import Counter\n",
    "def finding_all_repeating_elements(arr1):\n",
    "    element_counts=Counter(arr1)\n",
    "    x=element_counts.items()\n",
    "    print(x)\n",
    "    y=[element for element, count in element_counts.items() if count > 1]\n",
    "    print(y)\n",
    "\n",
    "lst=[1,2,4,5,1,2,4,5,2,2,3,4,45,5]\n",
    "finding_all_repeating_elements(lst)"
   ]
  },
  {
   "cell_type": "markdown",
   "metadata": {},
   "source": [
    "### Find all non-repeating elements in an array"
   ]
  },
  {
   "cell_type": "code",
   "execution_count": 28,
   "metadata": {},
   "outputs": [
    {
     "name": "stdout",
     "output_type": "stream",
     "text": [
      "[34, 8, 12, 43, 32, 23, 134]\n"
     ]
    }
   ],
   "source": [
    "from collections import Counter\n",
    "def finding_all_non_repeating_elements(arr1):\n",
    "    x=Counter(arr1)\n",
    "    #print(f\"The frequency of numbers repeated {x}\")\n",
    "    y=x.items()\n",
    "\n",
    "    elements=[element for element,count in x.items() if count==1]\n",
    "\n",
    "    print(elements)\n",
    "\n",
    "lst=[1,2,3,4,5,5,1,2,3,34,5,6,6,3,6,7,4,3,5,7,8,12,43,6,5,32,23,134]\n",
    "finding_all_non_repeating_elements(lst)\n",
    "\n"
   ]
  },
  {
   "cell_type": "markdown",
   "metadata": {},
   "source": [
    "### Find all symmetric pairs in array"
   ]
  },
  {
   "cell_type": "code",
   "execution_count": 41,
   "metadata": {},
   "outputs": [
    {
     "name": "stdout",
     "output_type": "stream",
     "text": [
      "[(2, 1), (4, 3)]\n"
     ]
    }
   ],
   "source": [
    "def find_symmetric_pairs(pairs):\n",
    "    # Set to store unique pairs\n",
    "    seen = set()\n",
    "    # List to store symmetric pairs\n",
    "    result = []\n",
    "    for (first,second) in pairs:\n",
    "        # Check if the reverse pair exists in 'seen'\n",
    "        if (second, first) in seen:\n",
    "            result.append((first, second))\n",
    "        # Add the current pair to 'seen'\n",
    "        seen.add((first, second))\n",
    "\n",
    "    return result\n",
    "\n",
    "# Example usage:\n",
    "input_pairs = [(1, 2), (3, 4), (2, 1), (4, 3), (5, 9)]\n",
    "symmetric = find_symmetric_pairs(input_pairs)\n",
    "print(symmetric)"
   ]
  },
  {
   "cell_type": "markdown",
   "metadata": {},
   "source": [
    "### Check if a number is Palindrome or Not in python fucntions"
   ]
  },
  {
   "cell_type": "code",
   "execution_count": 6,
   "metadata": {},
   "outputs": [
    {
     "name": "stdout",
     "output_type": "stream",
     "text": [
      "it is palindrome\n"
     ]
    }
   ],
   "source": [
    "def palindrome_or_not(n):\n",
    "    actual_string=str(n)\n",
    "\n",
    "    reversed_string=actual_string[::-1]\n",
    "    if reversed_string==actual_string:\n",
    "        print(\"it is palindrome\")\n",
    "\n",
    "    else:\n",
    "        print(\"Its is not palindrome\")\n",
    "\n",
    "n=121\n",
    "palindrome_or_not(n)\n",
    "\n"
   ]
  },
  {
   "cell_type": "markdown",
   "metadata": {},
   "source": [
    "### Find all Palindrome numbers in a given range"
   ]
  },
  {
   "cell_type": "code",
   "execution_count": 8,
   "metadata": {},
   "outputs": [
    {
     "name": "stdout",
     "output_type": "stream",
     "text": [
      "The palindrome numbers are ['1', '2', '3', '4', '5', '6', '7', '8', '9', '11', '22', '33', '44', '55', '66', '77', '88', '99', '101', '111', '121', '131', '141']\n",
      "The non palindrome numbers are ['10', '12', '13', '14', '15', '16', '17', '18', '19', '20', '21', '23', '24', '25', '26', '27', '28', '29', '30', '31', '32', '34', '35', '36', '37', '38', '39', '40', '41', '42', '43', '45', '46', '47', '48', '49', '50', '51', '52', '53', '54', '56', '57', '58', '59', '60', '61', '62', '63', '64', '65', '67', '68', '69', '70', '71', '72', '73', '74', '75', '76', '78', '79', '80', '81', '82', '83', '84', '85', '86', '87', '89', '90', '91', '92', '93', '94', '95', '96', '97', '98', '100', '102', '103', '104', '105', '106', '107', '108', '109', '110', '112', '113', '114', '115', '116', '117', '118', '119', '120', '122', '123', '124', '125', '126', '127', '128', '129', '130', '132', '133', '134', '135', '136', '137', '138', '139', '140', '142', '143', '144', '145', '146', '147', '148', '149']\n"
     ]
    }
   ],
   "source": [
    "def palindrome_of_numbers():\n",
    "\n",
    "    palindrome_numbers=[]\n",
    "    non_palindrome_numbers=[]\n",
    "    for actual_number in range(1,150):\n",
    "        actual_number=str(actual_number)\n",
    "        reverse_number=actual_number[::-1]\n",
    "        if reverse_number==actual_number:\n",
    "            palindrome_numbers.append(actual_number)\n",
    "        \n",
    "        else:\n",
    "            non_palindrome_numbers.append(actual_number)\n",
    "\n",
    "    print(f\"The palindrome numbers are {palindrome_numbers}\")\n",
    "    print(f\"The non palindrome numbers are {non_palindrome_numbers}\")\n",
    "    \n",
    "\n",
    "palindrome_of_numbers()\n",
    "\n",
    "\n"
   ]
  },
  {
   "cell_type": "markdown",
   "metadata": {},
   "source": [
    "### Check if a number is prime or not"
   ]
  },
  {
   "cell_type": "code",
   "execution_count": 23,
   "metadata": {},
   "outputs": [
    {
     "name": "stdout",
     "output_type": "stream",
     "text": [
      "The prime numbers in the range 1 to 150 are: [2, 3, 5, 7, 11, 13, 17, 19, 23, 29, 31, 37, 41, 43, 47, 53, 59, 61, 67, 71, 73, 79, 83, 89, 97, 101, 103, 107, 109, 113, 127, 131, 137, 139, 149]\n",
      "The non-prime numbers in the range 1 to 150 are: [1, 4, 6, 8, 9, 10, 12, 14, 15, 16, 18, 20, 21, 22, 24, 25, 26, 27, 28, 30, 32, 33, 34, 35, 36, 38, 39, 40, 42, 44, 45, 46, 48, 49, 50, 51, 52, 54, 55, 56, 57, 58, 60, 62, 63, 64, 65, 66, 68, 69, 70, 72, 74, 75, 76, 77, 78, 80, 81, 82, 84, 85, 86, 87, 88, 90, 91, 92, 93, 94, 95, 96, 98, 99, 100, 102, 104, 105, 106, 108, 110, 111, 112, 114, 115, 116, 117, 118, 119, 120, 121, 122, 123, 124, 125, 126, 128, 129, 130, 132, 133, 134, 135, 136, 138, 140, 141, 142, 143, 144, 145, 146, 147, 148, 150]\n"
     ]
    }
   ],
   "source": [
    "def is_prime(n):\n",
    "    if n <= 1:\n",
    "        return False\n",
    "    if n == 2:\n",
    "        return True  # 2 is the only even prime number\n",
    "    if n % 2 == 0:\n",
    "        return False  # other even numbers are not prime\n",
    "    \n",
    "    for i in range(3, int(n**0.5) + 1, 2):\n",
    "        if n % i == 0:\n",
    "            return False\n",
    "    return True\n",
    "\n",
    "def check_prime_range(start, end):\n",
    "    primes = []\n",
    "    non_primes = []\n",
    "    \n",
    "    for number in range(start, end + 1):\n",
    "        if is_prime(number):\n",
    "            primes.append(number)\n",
    "        else:\n",
    "            non_primes.append(number)\n",
    "\n",
    "    print(f'The prime numbers in the range {start} to {end} are: {primes}')\n",
    "    print(f'The non-prime numbers in the range {start} to {end} are: {non_primes}')\n",
    "\n",
    "# Test the function\n",
    "start = 1\n",
    "end = 150\n",
    "check_prime_range(start, end)\n"
   ]
  },
  {
   "cell_type": "markdown",
   "metadata": {},
   "source": [
    "### Check if a number is armstrong number or not"
   ]
  },
  {
   "cell_type": "code",
   "execution_count": 27,
   "metadata": {},
   "outputs": [
    {
     "name": "stdout",
     "output_type": "stream",
     "text": [
      "123 is not an Armstrong number\n"
     ]
    }
   ],
   "source": [
    "def is_armstrong_number(number):  # 153=1*3+5*3+3*3 =153  is a amstrong number\n",
    "    string_number = str(number)\n",
    "    num_length = len(string_number)\n",
    "    sum_of_powers = sum(int(digit) ** num_length for digit in string_number)\n",
    "\n",
    "    if sum_of_powers == number:\n",
    "        print(f\"{number} is an Armstrong number\")\n",
    "    else:\n",
    "        print(f\"{number} is not an Armstrong number\")\n",
    "\n",
    "number = 123\n",
    "is_armstrong_number(number)\n"
   ]
  },
  {
   "cell_type": "markdown",
   "metadata": {},
   "source": [
    "### Check if a number is perfect number\n",
    "\n",
    "sum of the divisors of the taken number should equal to taken number\n",
    "Example 2+3+1=6 so 6 is perfect number"
   ]
  },
  {
   "cell_type": "code",
   "execution_count": 45,
   "metadata": {},
   "outputs": [
    {
     "name": "stdout",
     "output_type": "stream",
     "text": [
      " 24 is not a perfect number \n"
     ]
    }
   ],
   "source": [
    "def is_perfect_number(number):\n",
    "    perfect_number=[]\n",
    "    not_perfect_number=[]\n",
    "    for i in range(1,number):\n",
    "\n",
    "        if number%i==0:\n",
    "            perfect_number.append(i)\n",
    "        \n",
    "        else:\n",
    "            not_perfect_number.append(i)\n",
    "    \n",
    "        \n",
    "    perfect_numbers=sum(perfect_number)\n",
    "    if number==perfect_numbers:\n",
    "        print(f\" {number} is a perfect number \")\n",
    "\n",
    "    else:\n",
    "        print(f\" {number} is not a perfect number \")\n",
    "\n",
    "\n",
    "\n",
    "\n",
    "number=24\n",
    "is_perfect_number(number)"
   ]
  },
  {
   "cell_type": "markdown",
   "metadata": {},
   "source": [
    "### Even or Odd"
   ]
  },
  {
   "cell_type": "code",
   "execution_count": 50,
   "metadata": {},
   "outputs": [
    {
     "name": "stdout",
     "output_type": "stream",
     "text": [
      "5  is odd number\n"
     ]
    }
   ],
   "source": [
    "def even_or_odd(number):\n",
    "\n",
    "    if number%2==0:\n",
    "        print(f\"{number}  is a even number\")\n",
    "    else:\n",
    "        print(f\"{number}  is odd number\")\n",
    "\n",
    "number=5\n",
    "even_or_odd(number)"
   ]
  },
  {
   "cell_type": "markdown",
   "metadata": {},
   "source": [
    "### Check weather a given number is positive or negative"
   ]
  },
  {
   "cell_type": "code",
   "execution_count": 53,
   "metadata": {},
   "outputs": [
    {
     "name": "stdout",
     "output_type": "stream",
     "text": [
      "-5 is negative number\n"
     ]
    }
   ],
   "source": [
    "def positive_or_negative(number):\n",
    "    \n",
    "    if number>=0:\n",
    "        print(f\"{number} is positive number\")\n",
    "    else:\n",
    "        print(f\"{number} is negative number\")\n",
    "\n",
    "\n",
    "number=-5\n",
    "positive_or_negative(number)\n",
    "\n"
   ]
  },
  {
   "cell_type": "markdown",
   "metadata": {},
   "source": [
    "### Sum of first N natural numbers"
   ]
  },
  {
   "cell_type": "code",
   "execution_count": 61,
   "metadata": {},
   "outputs": [
    {
     "name": "stdout",
     "output_type": "stream",
     "text": [
      "sum of natural numbers of 4 is 10\n"
     ]
    }
   ],
   "source": [
    "def sum_of_n_natural_numbers(number):\n",
    "    total = 0\n",
    "    for i in range(0,number+1):\n",
    "        total = total + i\n",
    "\n",
    "    print(f\"sum of natural numbers of {number} is {total}\")\n",
    "\n",
    "number = 4\n",
    "sum_of_n_natural_numbers(number)\n"
   ]
  },
  {
   "cell_type": "markdown",
   "metadata": {},
   "source": [
    "### Find Sum of AP Series\n",
    "\n",
    "The formula to calculate the sum of the first 𝑛 n terms of an arithmetic progression (AP) is: \n",
    "- 𝑆 𝑛 = 𝑛 2 ( 2 𝑎 + ( 𝑛 − 1 ) ⋅ 𝑑 )"
   ]
  },
  {
   "cell_type": "code",
   "execution_count": 64,
   "metadata": {},
   "outputs": [
    {
     "name": "stdout",
     "output_type": "stream",
     "text": [
      "460.0\n"
     ]
    }
   ],
   "source": [
    "def sum_of_ap_series(a,n,d):\n",
    "\n",
    "    sum_of_ap_terms=n/2*((2*a+(n-1))*d)\n",
    "    print(sum_of_ap_terms)\n",
    "\n",
    "a=2\n",
    "n=20\n",
    "d=2\n",
    "sum_of_ap_series(a,n,d)"
   ]
  },
  {
   "cell_type": "markdown",
   "metadata": {},
   "source": [
    "### Program to find sum of GP Series\n",
    "\n",
    "A sequence of terms, each succeeding term is generated by multiplying each preceding term with a constant value, then the sequence is called a geometric progression. (GP)\n",
    "\n",
    "a = First term of G.P.\n",
    "\n",
    "r = Common ratio of G.P.\n",
    "\n",
    "n = Number of terms\n",
    "\n",
    "Example = 2, 4, 8, 16, 32, 64, … is a GP, where the common ratio is 2\n",
    "\n",
    "\n",
    "sum of GP series Sn​=a(r*n−1)/(r-1)​"
   ]
  },
  {
   "cell_type": "code",
   "execution_count": 71,
   "metadata": {},
   "outputs": [
    {
     "name": "stdout",
     "output_type": "stream",
     "text": [
      "1048575.0\n"
     ]
    }
   ],
   "source": [
    "def sum_of_gp_series(a,r,n):\n",
    "\n",
    "    sum_of_gp_terms=a*(((r**n)-1)/(r-1))\n",
    "    print(sum_of_gp_terms)\n",
    "\n",
    "a=1\n",
    "r=2\n",
    "n=20\n",
    "sum_of_gp_series(a,r,n)\n",
    "\n",
    "\n",
    "\n"
   ]
  },
  {
   "cell_type": "markdown",
   "metadata": {},
   "source": [
    "### Greatest of two numbers in python functions "
   ]
  },
  {
   "cell_type": "code",
   "execution_count": 72,
   "metadata": {},
   "outputs": [
    {
     "name": "stdout",
     "output_type": "stream",
     "text": [
      "2 is greatest number\n"
     ]
    }
   ],
   "source": [
    "def greatest_of_two_numbers(n1,n2):\n",
    "    if n1>n2:\n",
    "        print(f\"{n1} is greatest number\")\n",
    "\n",
    "    else:\n",
    "        print(f\"{n2} is greatest number\")\n",
    "\n",
    "greatest_of_two_numbers(1,2)"
   ]
  },
  {
   "cell_type": "code",
   "execution_count": 74,
   "metadata": {},
   "outputs": [
    {
     "name": "stdout",
     "output_type": "stream",
     "text": [
      "3 is greatest number\n"
     ]
    }
   ],
   "source": [
    "def greatest_of_two_numbers(a,b,c):\n",
    "    if a>b and a>c:\n",
    "        print(f\"{a} is greatest number\")\n",
    "\n",
    "    elif b>a and b>c:\n",
    "        print(f\"{b} is greatest number\")\n",
    "\n",
    "    else:\n",
    "        print(f\"{c} is greatest number\")\n",
    "\n",
    "greatest_of_two_numbers(1,2,3)"
   ]
  },
  {
   "cell_type": "markdown",
   "metadata": {},
   "source": [
    "### Leap Year or not\n",
    "\n",
    "Year should be evenly divisible by 4,100,400 then it a leap year"
   ]
  },
  {
   "cell_type": "code",
   "execution_count": 78,
   "metadata": {},
   "outputs": [
    {
     "name": "stdout",
     "output_type": "stream",
     "text": [
      "2000 is a leap year\n"
     ]
    }
   ],
   "source": [
    "def leap_year_or_not(year):\n",
    "\n",
    "    if year%4==0 and year%100==0 and year%400==0:\n",
    "        print(f\"{year} is a leap year\")\n",
    "\n",
    "    else:\n",
    "        print(f\"{year} is not a leap year\")\n",
    "\n",
    "year=2000\n",
    "leap_year_or_not(year)"
   ]
  },
  {
   "cell_type": "markdown",
   "metadata": {},
   "source": [
    "### Reverse digits of a number"
   ]
  },
  {
   "cell_type": "code",
   "execution_count": 79,
   "metadata": {},
   "outputs": [
    {
     "name": "stdout",
     "output_type": "stream",
     "text": [
      "original numbers are 12345 and reverse_numbers are 54321\n"
     ]
    }
   ],
   "source": [
    "def reverse_digit(number):\n",
    "    user_passed_number=number\n",
    "    number=str(number)\n",
    "    reverse_numbers=number[::-1]\n",
    "    print(f\"original numbers are {user_passed_number} and reverse_numbers are {reverse_numbers}\")\n",
    "\n",
    "number=12345\n",
    "reverse_digit(number)"
   ]
  },
  {
   "cell_type": "markdown",
   "metadata": {},
   "source": [
    "### Maximum and Minimum digit in a number"
   ]
  },
  {
   "cell_type": "code",
   "execution_count": 87,
   "metadata": {},
   "outputs": [
    {
     "name": "stdout",
     "output_type": "stream",
     "text": [
      "The maximum number is 9\n",
      "The minimum number is 0\n"
     ]
    }
   ],
   "source": [
    "def max_and_min_number(number):\n",
    "\n",
    "    string_number=str(number)\n",
    "    max_number,min_number=max(string_number),min(string_number)\n",
    "    maximum_number=int(max_number)\n",
    "    minimum_number=int(min_number)\n",
    "\n",
    "    print(f\"The maximum number is {maximum_number}\")\n",
    "    print(f\"The minimum number is {minimum_number}\")\n",
    "\n",
    "number=983473460923\n",
    "max_and_min_number(number)\n",
    "\n"
   ]
  },
  {
   "cell_type": "markdown",
   "metadata": {},
   "source": [
    "### Print Fibonacci upto Nth Term\n",
    "\n",
    "- F(n)=F(n−1)+F(n−2) \n",
    "- with the initial conditions: \n",
    "- 𝐹 ( 0 ) = 0 \n",
    "- 𝐹 ( 1 ) = 1 \n",
    "-  This means that: \n",
    "- The 0th term is 0. \n",
    "- The 1st term is 1. \n",
    "- The 2nd term is 0 + 1 = 1 0+1=1.\n",
    "- The 3rd term is 1 + 1 = 2 1+1=2.\n",
    "- The 4th term is 1 + 2 = 3 1+2=3. And so on... \n",
    "- The beginning of the Fibonacci sequence is: 0 , 1 , 1 , 2 , 3 , 5 , 8 , 13 , 21 , 34 , 55 , 89 , … 0,1,1,2,3,5,8,13,21,34,55,89,…"
   ]
  },
  {
   "cell_type": "code",
   "execution_count": 106,
   "metadata": {},
   "outputs": [
    {
     "name": "stdout",
     "output_type": "stream",
     "text": [
      "The Fibonacci series is [0, 1, 1, 2, 3, 5, 8, 13, 21, 34]\n"
     ]
    }
   ],
   "source": [
    "def fibonacci(n):\n",
    "    fibonacci_series = [0, 1]  # Initialize the first two terms\n",
    "    if n <= 0:\n",
    "        print(f\"The Fibonacci series for {n} is: []\")\n",
    "    elif n == 1:\n",
    "        print(f\"The Fibonacci series for {n} is: [0]\")\n",
    "    elif n == 2:\n",
    "        print(f\"The Fibonacci series for {n} is: [0, 1]\")\n",
    "    else:\n",
    "        for i in range(2, n):\n",
    "            next_term = fibonacci_series[-1] + fibonacci_series[-2]\n",
    "            fibonacci_series.append(next_term)\n",
    "    print(f\"The Fibonacci series is {fibonacci_series}\")\n",
    "\n",
    "n = 10\n",
    "fibonacci(n)\n"
   ]
  },
  {
   "cell_type": "markdown",
   "metadata": {},
   "source": [
    "### Factorial of a number"
   ]
  },
  {
   "cell_type": "code",
   "execution_count": 138,
   "metadata": {},
   "outputs": [
    {
     "name": "stdout",
     "output_type": "stream",
     "text": [
      "6\n"
     ]
    }
   ],
   "source": [
    "def factorial(number):\n",
    "    result = 1\n",
    "    for i in range(1, number + 1):\n",
    "        result *= i  \n",
    "    print(result)\n",
    "\n",
    "number = 3\n",
    "factorial(number)  \n"
   ]
  },
  {
   "cell_type": "markdown",
   "metadata": {},
   "source": [
    "### Power of a number"
   ]
  },
  {
   "cell_type": "code",
   "execution_count": 139,
   "metadata": {},
   "outputs": [
    {
     "name": "stdout",
     "output_type": "stream",
     "text": [
      "8\n"
     ]
    }
   ],
   "source": [
    "def power_is(base,exponent):\n",
    "\n",
    "    result=base**exponent\n",
    "    print(result)\n",
    "\n",
    "power_is(2,3)"
   ]
  },
  {
   "cell_type": "markdown",
   "metadata": {},
   "source": [
    "### Factors of a given number\n"
   ]
  },
  {
   "cell_type": "code",
   "execution_count": 144,
   "metadata": {},
   "outputs": [
    {
     "name": "stdout",
     "output_type": "stream",
     "text": [
      "factors of the are [1, 2, 4, 7, 14, 28]  \n",
      "non factors of the are [3, 5, 6, 8, 9, 10, 11, 12, 13, 15, 16, 17, 18, 19, 20, 21, 22, 23, 24, 25, 26, 27]  \n"
     ]
    }
   ],
   "source": [
    "def factor_is(number):\n",
    "    factors=[]\n",
    "    non_factor_numbers=[]\n",
    "    for i in range(1,number+1):\n",
    "        if number%i==0:\n",
    "            factors.append(i)\n",
    "        else:\n",
    "            non_factor_numbers.append(i)\n",
    "    \n",
    "    return factors,non_factor_numbers\n",
    "            \n",
    "\n",
    "number=28\n",
    "factors,non_factor_numbers=factor_is(number)\n",
    "print(f\"factors of the are {factors}  \")\n",
    "print(f\"non factors of the are {non_factor_numbers}  \")"
   ]
  },
  {
   "cell_type": "markdown",
   "metadata": {},
   "source": [
    "### Print all prime factors of the given number"
   ]
  },
  {
   "cell_type": "code",
   "execution_count": null,
   "metadata": {},
   "outputs": [],
   "source": []
  },
  {
   "cell_type": "markdown",
   "metadata": {},
   "source": [
    "### LCM of two numbers \n",
    "LCM(a,b)= ∣a⋅b∣//GCD(a,b)\n",
    "\n",
    "- We import the math module to use the gcd function.\n",
    "\n",
    "​\n"
   ]
  },
  {
   "cell_type": "code",
   "execution_count": 147,
   "metadata": {},
   "outputs": [
    {
     "name": "stdout",
     "output_type": "stream",
     "text": [
      "The LCM of 2 and 4 is 4\n"
     ]
    }
   ],
   "source": [
    "import math\n",
    "\n",
    "def lcm(a, b):\n",
    "    lcm_result = abs(a * b) // math.gcd(a, b)\n",
    "    return lcm_result\n",
    "\n",
    "# Example usage\n",
    "result = lcm(2, 4)\n",
    "print(f\"The LCM of 2 and 4 is {result}\")\n"
   ]
  },
  {
   "cell_type": "markdown",
   "metadata": {},
   "source": [
    "### Sum of numbers in the given range"
   ]
  },
  {
   "cell_type": "code",
   "execution_count": 158,
   "metadata": {},
   "outputs": [
    {
     "name": "stdout",
     "output_type": "stream",
     "text": [
      "The total of the sum of the numbers of 28 is 378\n"
     ]
    }
   ],
   "source": [
    "def sum_of_numbers(number):\n",
    "    total=0\n",
    "    for i in range(1,int(number)):\n",
    "        total=total+i\n",
    "    print(f\"The total of the sum of the numbers of {number} is {total}\")\n",
    "\n",
    "sum_of_numbers(28)\n"
   ]
  },
  {
   "cell_type": "markdown",
   "metadata": {},
   "source": [
    "### Replace all 0s with 1s in a given integer "
   ]
  },
  {
   "cell_type": "code",
   "execution_count": 11,
   "metadata": {},
   "outputs": [
    {
     "name": "stdout",
     "output_type": "stream",
     "text": [
      "[1, 1, 1, 1, 1, 1, 1, 1]\n"
     ]
    }
   ],
   "source": [
    "def replace_number():\n",
    "    lst = [0, 0, 0, 0, 0, 0, 0, 0]\n",
    "\n",
    "    for i in range(len(lst)):\n",
    "        if lst[i] == 0:\n",
    "            lst[i] = 1\n",
    "            \n",
    "    print(lst)\n",
    "\n",
    "replace_number()\n"
   ]
  },
  {
   "cell_type": "markdown",
   "metadata": {},
   "source": [
    "### Count number of vowels, consonants, spaces in String"
   ]
  },
  {
   "cell_type": "code",
   "execution_count": 12,
   "metadata": {},
   "outputs": [
    {
     "name": "stdout",
     "output_type": "stream",
     "text": [
      "The vowel count is 12\n",
      "The space_count is 7\n",
      "The consonent_count is 17\n"
     ]
    }
   ],
   "source": [
    "def count(string):\n",
    "\n",
    "    vowels='aeiou'\n",
    "    space=' '\n",
    "    consonents='bcdfghjklmnpqrstvwxyz'\n",
    "    vowel_count=0\n",
    "    space_count=0\n",
    "    consonents_count=0\n",
    "    for element in string:\n",
    "        if element in vowels:\n",
    "            vowel_count=vowel_count+1\n",
    "\n",
    "    for element in string:\n",
    "        if element in space:\n",
    "            space_count=space_count+1\n",
    "\n",
    "    for element in string:\n",
    "        if element in consonents:\n",
    "            consonents_count=consonents_count+1\n",
    "\n",
    "    print(f\"The vowel count is {vowel_count}\")\n",
    "    print(f\"The space_count is {space_count}\")\n",
    "    print(f\"The consonent_count is {consonents_count}\")\n",
    "\n",
    "string=\"hello every one my name is mahendra \"\n",
    "count(string)\n",
    "        \n"
   ]
  },
  {
   "cell_type": "code",
   "execution_count": null,
   "metadata": {},
   "outputs": [],
   "source": []
  },
  {
   "cell_type": "code",
   "execution_count": null,
   "metadata": {},
   "outputs": [],
   "source": []
  },
  {
   "cell_type": "code",
   "execution_count": null,
   "metadata": {},
   "outputs": [],
   "source": []
  },
  {
   "cell_type": "code",
   "execution_count": null,
   "metadata": {},
   "outputs": [],
   "source": []
  },
  {
   "cell_type": "code",
   "execution_count": null,
   "metadata": {},
   "outputs": [],
   "source": []
  },
  {
   "cell_type": "code",
   "execution_count": null,
   "metadata": {},
   "outputs": [],
   "source": []
  },
  {
   "cell_type": "code",
   "execution_count": null,
   "metadata": {},
   "outputs": [],
   "source": []
  },
  {
   "cell_type": "code",
   "execution_count": null,
   "metadata": {},
   "outputs": [],
   "source": []
  },
  {
   "cell_type": "code",
   "execution_count": null,
   "metadata": {},
   "outputs": [],
   "source": []
  },
  {
   "cell_type": "code",
   "execution_count": null,
   "metadata": {},
   "outputs": [],
   "source": []
  },
  {
   "cell_type": "code",
   "execution_count": null,
   "metadata": {},
   "outputs": [],
   "source": []
  },
  {
   "cell_type": "code",
   "execution_count": null,
   "metadata": {},
   "outputs": [],
   "source": []
  }
 ],
 "metadata": {
  "kernelspec": {
   "display_name": "Python 3",
   "language": "python",
   "name": "python3"
  },
  "language_info": {
   "codemirror_mode": {
    "name": "ipython",
    "version": 3
   },
   "file_extension": ".py",
   "mimetype": "text/x-python",
   "name": "python",
   "nbconvert_exporter": "python",
   "pygments_lexer": "ipython3",
   "version": "3.11.7"
  }
 },
 "nbformat": 4,
 "nbformat_minor": 2
}
