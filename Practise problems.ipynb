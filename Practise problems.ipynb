{
 "cells": [
  {
   "cell_type": "markdown",
   "metadata": {},
   "source": [
    "### Find the smallest element in an array"
   ]
  },
  {
   "cell_type": "code",
   "execution_count": 2,
   "metadata": {},
   "outputs": [
    {
     "name": "stdout",
     "output_type": "stream",
     "text": [
      "1\n"
     ]
    }
   ],
   "source": [
    "array=[1,2,3,4,5,6,7,8,9,10]\n",
    "print(min(array))"
   ]
  },
  {
   "cell_type": "markdown",
   "metadata": {},
   "source": [
    "### Find the largest number in an array"
   ]
  },
  {
   "cell_type": "code",
   "execution_count": 3,
   "metadata": {},
   "outputs": [
    {
     "name": "stdout",
     "output_type": "stream",
     "text": [
      "879\n"
     ]
    }
   ],
   "source": [
    "array=[121,134,98,321,879,456]\n",
    "print(max(array))"
   ]
  },
  {
   "cell_type": "markdown",
   "metadata": {},
   "source": [
    "### Second Smallest and Second Largest element in an array"
   ]
  },
  {
   "cell_type": "code",
   "execution_count": 5,
   "metadata": {},
   "outputs": [
    {
     "name": "stdout",
     "output_type": "stream",
     "text": [
      "[32, 34, 45, 56, 67, 78, 121]\n",
      "32 78\n"
     ]
    }
   ],
   "source": [
    "array=[121,34,56,67,32,78,45]\n",
    "x=sorted(array)\n",
    "print(x)\n",
    "print(x[0],x[-2])"
   ]
  },
  {
   "cell_type": "markdown",
   "metadata": {},
   "source": [
    "### Reverse a given array"
   ]
  },
  {
   "cell_type": "code",
   "execution_count": 9,
   "metadata": {},
   "outputs": [
    {
     "name": "stdout",
     "output_type": "stream",
     "text": [
      "[321, 178, 546, 234, 154]\n"
     ]
    }
   ],
   "source": [
    "array=[154,234,546,178,321]\n",
    "x=list(reversed(array))\n",
    "print(x)"
   ]
  },
  {
   "cell_type": "markdown",
   "metadata": {},
   "source": [
    "### Count frequency of each element in an array"
   ]
  },
  {
   "cell_type": "code",
   "execution_count": 12,
   "metadata": {},
   "outputs": [
    {
     "name": "stdout",
     "output_type": "stream",
     "text": [
      "Counter({6: 3, 1: 2, 2: 2, 3: 2, 4: 2, 7: 2, 8: 2, 9: 2, 5: 1})\n"
     ]
    }
   ],
   "source": [
    "from collections import Counter\n",
    "array=[1,2,3,4,5,6,7,8,9,6,2,3,1,4,6,7,8,9]\n",
    "x=Counter(array)\n",
    "print(x)"
   ]
  },
  {
   "cell_type": "code",
   "execution_count": null,
   "metadata": {},
   "outputs": [],
   "source": [
    "array = [3, 1, 4, 1, 5, 9, 2, 6, 5, 3, 5]\n",
    "\n",
    "sorted_array=sorted(array)\n"
   ]
  },
  {
   "cell_type": "markdown",
   "metadata": {},
   "source": [
    "### Rearrange array in increasing-decreasing order\n",
    "\n",
    "Explanation:\n",
    "- Sort the Array: The sort() method is called on arr1 to sort it in place. Since sort() does not return a new list, there is no need to assign its result to sorted_array.\n",
    "- Split the Array: The array is split into first_half and second_half using the midpoint.\n",
    "- Reverse the Second Half: The second half is reversed using slicing ([::-1]).\n",
    "- Combine: The two halves are combined to form the final array.\n",
    "- Print: The final array is printed."
   ]
  },
  {
   "cell_type": "code",
   "execution_count": 7,
   "metadata": {},
   "outputs": [
    {
     "name": "stdout",
     "output_type": "stream",
     "text": [
      "[12, 23, 28, 87, 65, 48, 43]\n"
     ]
    }
   ],
   "source": [
    "def rearranging_array(arr1):\n",
    "    sorted_array=sorted(arr1)\n",
    "    mid_point=len(sorted_array)//2\n",
    "    first_half=sorted_array[:mid_point]\n",
    "    second_half=sorted_array[mid_point:]\n",
    "    updated_second_order=second_half[::-1]\n",
    "    increase_and_decrease_array=first_half+updated_second_order\n",
    "    print(increase_and_decrease_array)\n",
    "\n",
    "list1=[23,43,12,65,48,87,28]\n",
    "rearranging_array(list1)"
   ]
  },
  {
   "cell_type": "markdown",
   "metadata": {},
   "source": [
    "### Calculate sum of the elements of the array"
   ]
  },
  {
   "cell_type": "code",
   "execution_count": 10,
   "metadata": {},
   "outputs": [
    {
     "name": "stdout",
     "output_type": "stream",
     "text": [
      "The sum of the elements of array is 278\n"
     ]
    }
   ],
   "source": [
    "\n",
    "\n",
    "def sum_of_array(arr1):\n",
    "    total=0\n",
    "\n",
    "    for element in arr1:\n",
    "        total=total+element\n",
    "        #print(sum_of_element)\n",
    "    return total\n",
    "\n",
    "list1=[1,34,23,45,76,24,75]\n",
    "x=sum_of_array(list1)\n",
    "print(f\"The sum of the elements of array is {x}\")\n"
   ]
  },
  {
   "cell_type": "markdown",
   "metadata": {},
   "source": [
    "### Average of all elements in an array"
   ]
  },
  {
   "cell_type": "code",
   "execution_count": 34,
   "metadata": {},
   "outputs": [
    {
     "name": "stdout",
     "output_type": "stream",
     "text": [
      "the avg of all elements of the array is 5.5\n"
     ]
    }
   ],
   "source": [
    "def avg_of_all_elements_in_array(arr1):\n",
    "    sum_of_the_array=sum(arr1)\n",
    "    len_of_the_array=len(arr1)\n",
    "    average=sum_of_the_array/len_of_the_array\n",
    "    return average\n",
    "list1=[1,2,3,4,5,6,7,8,9,10]\n",
    "x=avg_of_all_elements_in_array(list1)\n",
    "print(f\"the avg of all elements of the array is {x}\")"
   ]
  },
  {
   "cell_type": "markdown",
   "metadata": {},
   "source": [
    "### Find the median of the given array\n",
    "\n",
    "Explanation:\n",
    "- arr.sort(): This method sorts the array arr in place.\n",
    "Calculate the Median:\n",
    "- Odd Number of Elements: If the number of elements in the array (n) is odd (n % 2 == 1), the median is the middle element (arr[n // 2]).\n",
    "- Even Number of Elements: If n is even, the median is the average of the two middle elements ((arr[mid - 1] + arr[mid]) / 2), where mid = n // 2."
   ]
  },
  {
   "cell_type": "code",
   "execution_count": 35,
   "metadata": {},
   "outputs": [
    {
     "name": "stdout",
     "output_type": "stream",
     "text": [
      "[9, 13, 18, 23, 46, 53, 64, 78, 100]\n",
      "the median of array is 46\n"
     ]
    }
   ],
   "source": [
    "def median_of_array(arr1):\n",
    "    sorted_array=sorted(arr1)\n",
    "    length_of_the_array=len(arr1)\n",
    "    print(sorted_array)\n",
    "\n",
    "    if length_of_the_array%2==0:\n",
    "        mid=length_of_the_array//2\n",
    "        return (sorted_array[mid-1]+sorted_array[mid])//2\n",
    "    else:\n",
    "        return sorted_array[length_of_the_array//2]\n",
    "\n",
    "list1=[23,13,64,53,46,78,18,9,100]\n",
    "x=median_of_array(list1)\n",
    "print(f\"the median of array is {x}\")"
   ]
  },
  {
   "cell_type": "markdown",
   "metadata": {},
   "source": [
    "### Remove duplicates from a sorted array"
   ]
  },
  {
   "cell_type": "code",
   "execution_count": 36,
   "metadata": {},
   "outputs": [
    {
     "name": "stdout",
     "output_type": "stream",
     "text": [
      "[1, 2, 3, 4, 5, 6, 7, 8, 9, 20]\n"
     ]
    }
   ],
   "source": [
    "def finding_unique_elements(arr1):\n",
    "    arr1=sorted(arr1)\n",
    "    unique_elements = []\n",
    "    for index_value in range(len(arr1)):\n",
    "        if index_value == 0 or arr1[index_value] != arr1[index_value - 1]:\n",
    "            unique_elements.append(arr1[index_value])\n",
    "        \n",
    "    return unique_elements\n",
    "\n",
    "lst = [1, 1, 1, 2, 2, 3, 3, 4, 4, 5, 5, 6, 7, 8, 4, 9, 20, 3, 2, 2, 5, 6]\n",
    "unique_lst = finding_unique_elements(lst)\n",
    "print(unique_lst)\n"
   ]
  },
  {
   "cell_type": "markdown",
   "metadata": {},
   "source": [
    "### Remove duplicates from unsorted array"
   ]
  },
  {
   "cell_type": "code",
   "execution_count": 37,
   "metadata": {},
   "outputs": [
    {
     "name": "stdout",
     "output_type": "stream",
     "text": [
      "{1, 2, 34, 4, 5, 3, 6, 8, 7, 9}\n"
     ]
    }
   ],
   "source": [
    "def finding_unique_elements_without_sorting(arr1):\n",
    "    seen=set()\n",
    "    unique_elements=[]\n",
    "\n",
    "    for element in arr1:\n",
    "        if element not in seen:\n",
    "            seen.add(element)\n",
    "            unique_elements.append(element)\n",
    "\n",
    "    return seen\n",
    "\n",
    "lst=[1,2,34,1,2,4,5,3,2,5,6,8,4,7,3,9,2,7,4]\n",
    "x=finding_unique_elements_without_sorting(lst)\n",
    "print(x)"
   ]
  },
  {
   "cell_type": "markdown",
   "metadata": {},
   "source": [
    "### Adding Element in an array"
   ]
  },
  {
   "cell_type": "code",
   "execution_count": 38,
   "metadata": {},
   "outputs": [
    {
     "name": "stdout",
     "output_type": "stream",
     "text": [
      "This is the current list [1, 2, 3, 4, 5, 6, 7]\n",
      "This is the updated array[1, 2, 3, 4, 5, 6, 7, 2]\n"
     ]
    }
   ],
   "source": [
    "def adding_element_in_array(arr1):\n",
    "    print(f\"This is the current list {arr1}\")\n",
    "    element=int(input(\"enter the element\"))\n",
    "    arr1.append(element)\n",
    "    print(f\"This is the updated array{arr1}\")\n",
    "\n",
    "lst=[1,2,3,4,5,6,7]\n",
    "adding_element_in_array(lst)\n"
   ]
  },
  {
   "cell_type": "markdown",
   "metadata": {},
   "source": [
    "### Find all repeating elements in an array"
   ]
  },
  {
   "cell_type": "code",
   "execution_count": 39,
   "metadata": {},
   "outputs": [
    {
     "name": "stdout",
     "output_type": "stream",
     "text": [
      "dict_items([(1, 2), (2, 4), (4, 3), (5, 3), (3, 1), (45, 1)])\n",
      "[1, 2, 4, 5]\n"
     ]
    }
   ],
   "source": [
    "from collections import Counter\n",
    "def finding_all_repeating_elements(arr1):\n",
    "    element_counts=Counter(arr1)\n",
    "    x=element_counts.items()\n",
    "    print(x)\n",
    "    y=[element for element, count in element_counts.items() if count > 1]\n",
    "    print(y)\n",
    "\n",
    "lst=[1,2,4,5,1,2,4,5,2,2,3,4,45,5]\n",
    "finding_all_repeating_elements(lst)"
   ]
  },
  {
   "cell_type": "markdown",
   "metadata": {},
   "source": [
    "### Find all non-repeating elements in an array"
   ]
  },
  {
   "cell_type": "code",
   "execution_count": 28,
   "metadata": {},
   "outputs": [
    {
     "name": "stdout",
     "output_type": "stream",
     "text": [
      "[34, 8, 12, 43, 32, 23, 134]\n"
     ]
    }
   ],
   "source": [
    "from collections import Counter\n",
    "def finding_all_non_repeating_elements(arr1):\n",
    "    x=Counter(arr1)\n",
    "    #print(f\"The frequency of numbers repeated {x}\")\n",
    "    y=x.items()\n",
    "\n",
    "    elements=[element for element,count in x.items() if count==1]\n",
    "\n",
    "    print(elements)\n",
    "\n",
    "lst=[1,2,3,4,5,5,1,2,3,34,5,6,6,3,6,7,4,3,5,7,8,12,43,6,5,32,23,134]\n",
    "finding_all_non_repeating_elements(lst)\n",
    "\n"
   ]
  },
  {
   "cell_type": "markdown",
   "metadata": {},
   "source": [
    "### Find all symmetric pairs in array"
   ]
  },
  {
   "cell_type": "code",
   "execution_count": 41,
   "metadata": {},
   "outputs": [
    {
     "name": "stdout",
     "output_type": "stream",
     "text": [
      "[(2, 1), (4, 3)]\n"
     ]
    }
   ],
   "source": [
    "def find_symmetric_pairs(pairs):\n",
    "    # Set to store unique pairs\n",
    "    seen = set()\n",
    "    # List to store symmetric pairs\n",
    "    result = []\n",
    "    for (first,second) in pairs:\n",
    "        # Check if the reverse pair exists in 'seen'\n",
    "        if (second, first) in seen:\n",
    "            result.append((first, second))\n",
    "        # Add the current pair to 'seen'\n",
    "        seen.add((first, second))\n",
    "\n",
    "    return result\n",
    "\n",
    "# Example usage:\n",
    "input_pairs = [(1, 2), (3, 4), (2, 1), (4, 3), (5, 9)]\n",
    "symmetric = find_symmetric_pairs(input_pairs)\n",
    "print(symmetric)"
   ]
  },
  {
   "cell_type": "code",
   "execution_count": null,
   "metadata": {},
   "outputs": [],
   "source": []
  },
  {
   "cell_type": "code",
   "execution_count": null,
   "metadata": {},
   "outputs": [],
   "source": []
  },
  {
   "cell_type": "code",
   "execution_count": null,
   "metadata": {},
   "outputs": [],
   "source": []
  },
  {
   "cell_type": "code",
   "execution_count": null,
   "metadata": {},
   "outputs": [],
   "source": []
  },
  {
   "cell_type": "code",
   "execution_count": null,
   "metadata": {},
   "outputs": [],
   "source": []
  },
  {
   "cell_type": "code",
   "execution_count": null,
   "metadata": {},
   "outputs": [],
   "source": []
  },
  {
   "cell_type": "code",
   "execution_count": null,
   "metadata": {},
   "outputs": [],
   "source": []
  },
  {
   "cell_type": "code",
   "execution_count": null,
   "metadata": {},
   "outputs": [],
   "source": []
  },
  {
   "cell_type": "code",
   "execution_count": null,
   "metadata": {},
   "outputs": [],
   "source": []
  },
  {
   "cell_type": "code",
   "execution_count": null,
   "metadata": {},
   "outputs": [],
   "source": []
  }
 ],
 "metadata": {
  "kernelspec": {
   "display_name": "Python 3",
   "language": "python",
   "name": "python3"
  },
  "language_info": {
   "codemirror_mode": {
    "name": "ipython",
    "version": 3
   },
   "file_extension": ".py",
   "mimetype": "text/x-python",
   "name": "python",
   "nbconvert_exporter": "python",
   "pygments_lexer": "ipython3",
   "version": "3.11.7"
  }
 },
 "nbformat": 4,
 "nbformat_minor": 2
}
